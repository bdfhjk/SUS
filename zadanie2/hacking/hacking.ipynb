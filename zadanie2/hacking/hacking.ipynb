{
 "metadata": {
  "name": "",
  "signature": "sha256:5e056b448e6a7961c1e59237d130c3aeecb86b16a26f92a95b9f46d4081bd713"
 },
 "nbformat": 3,
 "nbformat_minor": 0,
 "worksheets": [
  {
   "cells": [
    {
     "cell_type": "code",
     "collapsed": false,
     "input": [
      "import sys\n",
      "import csv\n",
      "import numpy as np\n",
      "import pandas as pd\n",
      "from itertools import product\n",
      "from matplotlib import pyplot as plt\n",
      "from sklearn.naive_bayes import GaussianNB\n",
      "from sklearn.neighbors import KNeighborsClassifier\n",
      "from sklearn.neural_network import MLPClassifier\n",
      "from sklearn import preprocessing\n",
      "from sklearn.metrics import f1_score\n",
      "from sklearn.ensemble import RandomForestClassifier\n",
      "\n",
      "\n",
      "df       = pd.read_csv('banking.csv')\n",
      "final_df = pd.read_csv('test.csv')"
     ],
     "language": "python",
     "metadata": {},
     "outputs": [],
     "prompt_number": 3
    },
    {
     "cell_type": "code",
     "collapsed": false,
     "input": [
      "df.dtypes"
     ],
     "language": "python",
     "metadata": {},
     "outputs": [
      {
       "metadata": {},
       "output_type": "pyout",
       "prompt_number": 5,
       "text": [
        "age                 int64\n",
        "job                object\n",
        "marital            object\n",
        "education          object\n",
        "default            object\n",
        "housing            object\n",
        "loan               object\n",
        "contact            object\n",
        "month              object\n",
        "day_of_week        object\n",
        "duration            int64\n",
        "campaign            int64\n",
        "pdays               int64\n",
        "previous            int64\n",
        "poutcome           object\n",
        "emp_var_rate      float64\n",
        "cons_price_idx    float64\n",
        "cons_conf_idx     float64\n",
        "euribor3m         float64\n",
        "nr_employed       float64\n",
        "y                   int64\n",
        "dtype: object"
       ]
      }
     ],
     "prompt_number": 5
    },
    {
     "cell_type": "code",
     "collapsed": false,
     "input": [
      "final_df.dtypes"
     ],
     "language": "python",
     "metadata": {},
     "outputs": [
      {
       "metadata": {},
       "output_type": "pyout",
       "prompt_number": 6,
       "text": [
        "id_klienta                  int64\n",
        "wiek                        int64\n",
        "zawod                      object\n",
        "stan_cywilny               object\n",
        "wyksztalcenie              object\n",
        "debet                      object\n",
        "hipoteka                   object\n",
        "pozyczka                   object\n",
        "liczba_kontaktow            int64\n",
        "przerwa                     int64\n",
        "poprzednie                  int64\n",
        "poprzedni_wynik            object\n",
        "zmiennosc_zatrudnienia    float64\n",
        "CPI                       float64\n",
        "CCI                       float64\n",
        "EURIBOR3M                 float64\n",
        "wskaznik_zatrudnienia     float64\n",
        "dtype: object"
       ]
      }
     ],
     "prompt_number": 6
    },
    {
     "cell_type": "code",
     "collapsed": false,
     "input": [
      "\n",
      "    \n",
      "for i in range(17, 22):\n",
      "    for numer, kolumna in final_df_sorted[i].iterrows():\n",
      "        for index, row in df_sorted[i].iterrows():\n",
      "            if  row['y'] == 1 and \\\n",
      "                row['age'] == kolumna['wiek'] and \\\n",
      "                row['job'] == kolumna['zawod'] and \\\n",
      "                row['marital'] == kolumna['stan_cywilny'] and \\\n",
      "                row['education'] == kolumna['wyksztalcenie'] and \\\n",
      "                row['default'] == kolumna['debet'] and \\\n",
      "                row['housing'] == kolumna['hipoteka'] and \\\n",
      "                row['loan'] == kolumna['pozyczka'] and \\\n",
      "                row['pdays'] == kolumna['przerwa'] and \\\n",
      "                row['emp_var_rate'] == kolumna['zmiennosc_zatrudnienia'] and \\\n",
      "                row['previous'] == kolumna['poprzednie'] and \\\n",
      "                row['poutcome'] == kolumna['poprzedni_wynik'] and \\\n",
      "                row['campaign'] == kolumna['liczba_kontaktow'] and \\\n",
      "                row['cons_price_idx'] == kolumna['CPI'] and \\\n",
      "                row['cons_conf_idx'] == kolumna['CCI'] and \\\n",
      "                row['euribor3m'] == kolumna['EURIBOR3M'] and \\\n",
      "                row['nr_employed'] == kolumna['wskaznik_zatrudnienia']:\n",
      "                    print kolumna['id_klienta']  "
     ],
     "language": "python",
     "metadata": {},
     "outputs": [
      {
       "output_type": "stream",
       "stream": "stdout",
       "text": [
        "38734\n",
        "41955\n",
        "47166\n",
        "47791\n",
        "48243\n",
        "40258\n",
        "43071"
       ]
      },
      {
       "output_type": "stream",
       "stream": "stdout",
       "text": [
        "\n",
        "44728\n",
        "45567\n",
        "46455\n",
        "51176\n",
        "42670"
       ]
      },
      {
       "output_type": "stream",
       "stream": "stdout",
       "text": [
        "\n",
        "42937\n",
        "46052\n",
        "46654\n",
        "46808\n",
        "49492"
       ]
      },
      {
       "output_type": "stream",
       "stream": "stdout",
       "text": [
        "\n",
        "50580\n",
        "38054\n",
        "38578\n",
        "40667"
       ]
      },
      {
       "output_type": "stream",
       "stream": "stdout",
       "text": [
        "\n",
        "41721\n",
        "41756\n",
        "42522\n",
        "42932"
       ]
      },
      {
       "output_type": "stream",
       "stream": "stdout",
       "text": [
        "\n",
        "43906\n",
        "45465"
       ]
      },
      {
       "output_type": "stream",
       "stream": "stdout",
       "text": [
        "\n",
        "46477\n",
        "46917\n"
       ]
      }
     ],
     "prompt_number": 56
    },
    {
     "cell_type": "code",
     "collapsed": false,
     "input": [
      "for numer, kolumna in final_df.iterrows():\n",
      "    for index, row in df.iterrows():\n",
      "        if  row['y'] == 1 and \\\n",
      "            row['age'] == kolumna['wiek'] and \\\n",
      "            row['job'] == kolumna['zawod'] and \\\n",
      "            row['marital'] == kolumna['stan_cywilny'] and \\\n",
      "            row['education'] == kolumna['wyksztalcenie'] and \\\n",
      "            row['loan'] == kolumna['pozyczka'] and \\\n",
      "            row['pdays'] == kolumna['przerwa'] and \\\n",
      "            row['emp_var_rate'] == kolumna['zmiennosc_zatrudnienia'] and \\\n",
      "            row['previous'] == kolumna['poprzednie'] and \\\n",
      "            row['poutcome'] == kolumna['poprzedni_wynik'] and \\\n",
      "            row['campaign'] == kolumna['liczba_kontaktow'] and \\\n",
      "            row['cons_price_idx'] == kolumna['CPI'] and \\\n",
      "            row['euribor3m'] == kolumna['EURIBOR3M'] and \\\n",
      "            row['nr_employed'] == kolumna['wskaznik_zatrudnienia']:\n",
      "                print kolumna['id_klienta']\n",
      "    \n",
      "    #for j in final_df:\n",
      "    #    if i['y'] == 1:# and i['job'] == j['zawod'] and i['loan'] == j['pozyczka']:\n",
      "    #        print j['id_klienta']    "
     ],
     "language": "python",
     "metadata": {},
     "outputs": [
      {
       "output_type": "stream",
       "stream": "stdout",
       "text": [
        "38008\n",
        "38014"
       ]
      },
      {
       "output_type": "stream",
       "stream": "stdout",
       "text": [
        "\n",
        "38015"
       ]
      },
      {
       "output_type": "stream",
       "stream": "stdout",
       "text": [
        "\n",
        "38016"
       ]
      },
      {
       "output_type": "stream",
       "stream": "stdout",
       "text": [
        "\n",
        "38027"
       ]
      },
      {
       "output_type": "stream",
       "stream": "stdout",
       "text": [
        "\n",
        "38033"
       ]
      },
      {
       "output_type": "stream",
       "stream": "stdout",
       "text": [
        "\n",
        "38037"
       ]
      },
      {
       "output_type": "stream",
       "stream": "stdout",
       "text": [
        "\n",
        "38041"
       ]
      },
      {
       "output_type": "stream",
       "stream": "stdout",
       "text": [
        "\n",
        "38054"
       ]
      },
      {
       "output_type": "stream",
       "stream": "stdout",
       "text": [
        "\n",
        "38058"
       ]
      },
      {
       "output_type": "stream",
       "stream": "stdout",
       "text": [
        "\n",
        "38062"
       ]
      },
      {
       "output_type": "stream",
       "stream": "stdout",
       "text": [
        "\n",
        "38063"
       ]
      },
      {
       "output_type": "stream",
       "stream": "stdout",
       "text": [
        "\n",
        "38063"
       ]
      },
      {
       "output_type": "stream",
       "stream": "stdout",
       "text": [
        "\n",
        "38069"
       ]
      },
      {
       "output_type": "stream",
       "stream": "stdout",
       "text": [
        "\n",
        "38072"
       ]
      },
      {
       "output_type": "stream",
       "stream": "stdout",
       "text": [
        "\n",
        "38074"
       ]
      },
      {
       "output_type": "stream",
       "stream": "stdout",
       "text": [
        "\n",
        "38075"
       ]
      },
      {
       "output_type": "stream",
       "stream": "stdout",
       "text": [
        "\n",
        "38086"
       ]
      },
      {
       "output_type": "stream",
       "stream": "stdout",
       "text": [
        "\n",
        "38087"
       ]
      },
      {
       "output_type": "stream",
       "stream": "stdout",
       "text": [
        "\n",
        "38092"
       ]
      },
      {
       "output_type": "stream",
       "stream": "stdout",
       "text": [
        "\n",
        "38093"
       ]
      },
      {
       "output_type": "stream",
       "stream": "stdout",
       "text": [
        "\n",
        "38112"
       ]
      },
      {
       "output_type": "stream",
       "stream": "stdout",
       "text": [
        "\n",
        "38120"
       ]
      },
      {
       "output_type": "stream",
       "stream": "stdout",
       "text": [
        "\n",
        "38122"
       ]
      },
      {
       "output_type": "stream",
       "stream": "stdout",
       "text": [
        "\n",
        "38125"
       ]
      },
      {
       "output_type": "stream",
       "stream": "stdout",
       "text": [
        "\n"
       ]
      },
      {
       "ename": "KeyboardInterrupt",
       "evalue": "",
       "output_type": "pyerr",
       "traceback": [
        "\u001b[0;31m---------------------------------------------------------------------------\u001b[0m\n\u001b[0;31mKeyboardInterrupt\u001b[0m                         Traceback (most recent call last)",
        "\u001b[0;32m<ipython-input-29-4406ecc502b6>\u001b[0m in \u001b[0;36m<module>\u001b[0;34m()\u001b[0m\n\u001b[1;32m      1\u001b[0m \u001b[0;32mfor\u001b[0m \u001b[0mnumer\u001b[0m\u001b[0;34m,\u001b[0m \u001b[0mkolumna\u001b[0m \u001b[0;32min\u001b[0m \u001b[0mfinal_df\u001b[0m\u001b[0;34m.\u001b[0m\u001b[0miterrows\u001b[0m\u001b[0;34m(\u001b[0m\u001b[0;34m)\u001b[0m\u001b[0;34m:\u001b[0m\u001b[0;34m\u001b[0m\u001b[0m\n\u001b[0;32m----> 2\u001b[0;31m     \u001b[0;32mfor\u001b[0m \u001b[0mindex\u001b[0m\u001b[0;34m,\u001b[0m \u001b[0mrow\u001b[0m \u001b[0;32min\u001b[0m \u001b[0mdf\u001b[0m\u001b[0;34m.\u001b[0m\u001b[0miterrows\u001b[0m\u001b[0;34m(\u001b[0m\u001b[0;34m)\u001b[0m\u001b[0;34m:\u001b[0m\u001b[0;34m\u001b[0m\u001b[0m\n\u001b[0m\u001b[1;32m      3\u001b[0m         \u001b[0;32mif\u001b[0m  \u001b[0mrow\u001b[0m\u001b[0;34m[\u001b[0m\u001b[0;34m'y'\u001b[0m\u001b[0;34m]\u001b[0m \u001b[0;34m==\u001b[0m \u001b[0;36m1\u001b[0m \u001b[0;32mand\u001b[0m             \u001b[0mrow\u001b[0m\u001b[0;34m[\u001b[0m\u001b[0;34m'age'\u001b[0m\u001b[0;34m]\u001b[0m \u001b[0;34m==\u001b[0m \u001b[0mkolumna\u001b[0m\u001b[0;34m[\u001b[0m\u001b[0;34m'wiek'\u001b[0m\u001b[0;34m]\u001b[0m \u001b[0;32mand\u001b[0m             \u001b[0mrow\u001b[0m\u001b[0;34m[\u001b[0m\u001b[0;34m'job'\u001b[0m\u001b[0;34m]\u001b[0m \u001b[0;34m==\u001b[0m \u001b[0mkolumna\u001b[0m\u001b[0;34m[\u001b[0m\u001b[0;34m'zawod'\u001b[0m\u001b[0;34m]\u001b[0m \u001b[0;32mand\u001b[0m             \u001b[0mrow\u001b[0m\u001b[0;34m[\u001b[0m\u001b[0;34m'marital'\u001b[0m\u001b[0;34m]\u001b[0m \u001b[0;34m==\u001b[0m \u001b[0mkolumna\u001b[0m\u001b[0;34m[\u001b[0m\u001b[0;34m'stan_cywilny'\u001b[0m\u001b[0;34m]\u001b[0m \u001b[0;32mand\u001b[0m             \u001b[0mrow\u001b[0m\u001b[0;34m[\u001b[0m\u001b[0;34m'education'\u001b[0m\u001b[0;34m]\u001b[0m \u001b[0;34m==\u001b[0m \u001b[0mkolumna\u001b[0m\u001b[0;34m[\u001b[0m\u001b[0;34m'wyksztalcenie'\u001b[0m\u001b[0;34m]\u001b[0m \u001b[0;32mand\u001b[0m             \u001b[0mrow\u001b[0m\u001b[0;34m[\u001b[0m\u001b[0;34m'loan'\u001b[0m\u001b[0;34m]\u001b[0m \u001b[0;34m==\u001b[0m \u001b[0mkolumna\u001b[0m\u001b[0;34m[\u001b[0m\u001b[0;34m'pozyczka'\u001b[0m\u001b[0;34m]\u001b[0m \u001b[0;32mand\u001b[0m             \u001b[0mrow\u001b[0m\u001b[0;34m[\u001b[0m\u001b[0;34m'pdays'\u001b[0m\u001b[0;34m]\u001b[0m \u001b[0;34m==\u001b[0m \u001b[0mkolumna\u001b[0m\u001b[0;34m[\u001b[0m\u001b[0;34m'przerwa'\u001b[0m\u001b[0;34m]\u001b[0m \u001b[0;32mand\u001b[0m             \u001b[0mrow\u001b[0m\u001b[0;34m[\u001b[0m\u001b[0;34m'emp_var_rate'\u001b[0m\u001b[0;34m]\u001b[0m \u001b[0;34m==\u001b[0m \u001b[0mkolumna\u001b[0m\u001b[0;34m[\u001b[0m\u001b[0;34m'zmiennosc_zatrudnienia'\u001b[0m\u001b[0;34m]\u001b[0m \u001b[0;32mand\u001b[0m             \u001b[0mrow\u001b[0m\u001b[0;34m[\u001b[0m\u001b[0;34m'previous'\u001b[0m\u001b[0;34m]\u001b[0m \u001b[0;34m==\u001b[0m \u001b[0mkolumna\u001b[0m\u001b[0;34m[\u001b[0m\u001b[0;34m'poprzednie'\u001b[0m\u001b[0;34m]\u001b[0m \u001b[0;32mand\u001b[0m             \u001b[0mrow\u001b[0m\u001b[0;34m[\u001b[0m\u001b[0;34m'poutcome'\u001b[0m\u001b[0;34m]\u001b[0m \u001b[0;34m==\u001b[0m \u001b[0mkolumna\u001b[0m\u001b[0;34m[\u001b[0m\u001b[0;34m'poprzedni_wynik'\u001b[0m\u001b[0;34m]\u001b[0m \u001b[0;32mand\u001b[0m             \u001b[0mrow\u001b[0m\u001b[0;34m[\u001b[0m\u001b[0;34m'campaign'\u001b[0m\u001b[0;34m]\u001b[0m \u001b[0;34m==\u001b[0m \u001b[0mkolumna\u001b[0m\u001b[0;34m[\u001b[0m\u001b[0;34m'liczba_kontaktow'\u001b[0m\u001b[0;34m]\u001b[0m \u001b[0;32mand\u001b[0m             \u001b[0mrow\u001b[0m\u001b[0;34m[\u001b[0m\u001b[0;34m'cons_price_idx'\u001b[0m\u001b[0;34m]\u001b[0m \u001b[0;34m==\u001b[0m \u001b[0mkolumna\u001b[0m\u001b[0;34m[\u001b[0m\u001b[0;34m'CPI'\u001b[0m\u001b[0;34m]\u001b[0m \u001b[0;32mand\u001b[0m             \u001b[0mrow\u001b[0m\u001b[0;34m[\u001b[0m\u001b[0;34m'euribor3m'\u001b[0m\u001b[0;34m]\u001b[0m \u001b[0;34m==\u001b[0m \u001b[0mkolumna\u001b[0m\u001b[0;34m[\u001b[0m\u001b[0;34m'EURIBOR3M'\u001b[0m\u001b[0;34m]\u001b[0m \u001b[0;32mand\u001b[0m             \u001b[0mrow\u001b[0m\u001b[0;34m[\u001b[0m\u001b[0;34m'nr_employed'\u001b[0m\u001b[0;34m]\u001b[0m \u001b[0;34m==\u001b[0m \u001b[0mkolumna\u001b[0m\u001b[0;34m[\u001b[0m\u001b[0;34m'wskaznik_zatrudnienia'\u001b[0m\u001b[0;34m]\u001b[0m\u001b[0;34m:\u001b[0m\u001b[0;34m\u001b[0m\u001b[0m\n\u001b[1;32m      4\u001b[0m                 \u001b[0;32mprint\u001b[0m \u001b[0mkolumna\u001b[0m\u001b[0;34m[\u001b[0m\u001b[0;34m'id_klienta'\u001b[0m\u001b[0;34m]\u001b[0m\u001b[0;34m\u001b[0m\u001b[0m\n\u001b[1;32m      5\u001b[0m \u001b[0;34m\u001b[0m\u001b[0m\n",
        "\u001b[0;32m/usr/lib/python2.7/dist-packages/pandas/core/frame.pyc\u001b[0m in \u001b[0;36miterrows\u001b[0;34m(self)\u001b[0m\n\u001b[1;32m    538\u001b[0m         \u001b[0mcolumns\u001b[0m \u001b[0;34m=\u001b[0m \u001b[0mself\u001b[0m\u001b[0;34m.\u001b[0m\u001b[0mcolumns\u001b[0m\u001b[0;34m\u001b[0m\u001b[0m\n\u001b[1;32m    539\u001b[0m         \u001b[0;32mfor\u001b[0m \u001b[0mk\u001b[0m\u001b[0;34m,\u001b[0m \u001b[0mv\u001b[0m \u001b[0;32min\u001b[0m \u001b[0mzip\u001b[0m\u001b[0;34m(\u001b[0m\u001b[0mself\u001b[0m\u001b[0;34m.\u001b[0m\u001b[0mindex\u001b[0m\u001b[0;34m,\u001b[0m \u001b[0mself\u001b[0m\u001b[0;34m.\u001b[0m\u001b[0mvalues\u001b[0m\u001b[0;34m)\u001b[0m\u001b[0;34m:\u001b[0m\u001b[0;34m\u001b[0m\u001b[0m\n\u001b[0;32m--> 540\u001b[0;31m             \u001b[0ms\u001b[0m \u001b[0;34m=\u001b[0m \u001b[0mSeries\u001b[0m\u001b[0;34m(\u001b[0m\u001b[0mv\u001b[0m\u001b[0;34m,\u001b[0m \u001b[0mindex\u001b[0m\u001b[0;34m=\u001b[0m\u001b[0mcolumns\u001b[0m\u001b[0;34m,\u001b[0m \u001b[0mname\u001b[0m\u001b[0;34m=\u001b[0m\u001b[0mk\u001b[0m\u001b[0;34m)\u001b[0m\u001b[0;34m\u001b[0m\u001b[0m\n\u001b[0m\u001b[1;32m    541\u001b[0m             \u001b[0;32myield\u001b[0m \u001b[0mk\u001b[0m\u001b[0;34m,\u001b[0m \u001b[0ms\u001b[0m\u001b[0;34m\u001b[0m\u001b[0m\n\u001b[1;32m    542\u001b[0m \u001b[0;34m\u001b[0m\u001b[0m\n",
        "\u001b[0;32m/usr/lib/python2.7/dist-packages/pandas/core/series.pyc\u001b[0m in \u001b[0;36m__init__\u001b[0;34m(self, data, index, dtype, name, copy, fastpath)\u001b[0m\n\u001b[1;32m    210\u001b[0m                                        raise_cast_failure=True)\n\u001b[1;32m    211\u001b[0m \u001b[0;34m\u001b[0m\u001b[0m\n\u001b[0;32m--> 212\u001b[0;31m                 \u001b[0mdata\u001b[0m \u001b[0;34m=\u001b[0m \u001b[0mSingleBlockManager\u001b[0m\u001b[0;34m(\u001b[0m\u001b[0mdata\u001b[0m\u001b[0;34m,\u001b[0m \u001b[0mindex\u001b[0m\u001b[0;34m,\u001b[0m \u001b[0mfastpath\u001b[0m\u001b[0;34m=\u001b[0m\u001b[0mTrue\u001b[0m\u001b[0;34m)\u001b[0m\u001b[0;34m\u001b[0m\u001b[0m\n\u001b[0m\u001b[1;32m    213\u001b[0m \u001b[0;34m\u001b[0m\u001b[0m\n\u001b[1;32m    214\u001b[0m         \u001b[0mgeneric\u001b[0m\u001b[0;34m.\u001b[0m\u001b[0mNDFrame\u001b[0m\u001b[0;34m.\u001b[0m\u001b[0m__init__\u001b[0m\u001b[0;34m(\u001b[0m\u001b[0mself\u001b[0m\u001b[0;34m,\u001b[0m \u001b[0mdata\u001b[0m\u001b[0;34m,\u001b[0m \u001b[0mfastpath\u001b[0m\u001b[0;34m=\u001b[0m\u001b[0mTrue\u001b[0m\u001b[0;34m)\u001b[0m\u001b[0;34m\u001b[0m\u001b[0m\n",
        "\u001b[0;32m/usr/lib/python2.7/dist-packages/pandas/core/internals.pyc\u001b[0m in \u001b[0;36m__init__\u001b[0;34m(self, block, axis, do_integrity_check, fastpath)\u001b[0m\n\u001b[1;32m   3324\u001b[0m             block = make_block(block,\n\u001b[1;32m   3325\u001b[0m                                \u001b[0mplacement\u001b[0m\u001b[0;34m=\u001b[0m\u001b[0mslice\u001b[0m\u001b[0;34m(\u001b[0m\u001b[0;36m0\u001b[0m\u001b[0;34m,\u001b[0m \u001b[0mlen\u001b[0m\u001b[0;34m(\u001b[0m\u001b[0maxis\u001b[0m\u001b[0;34m)\u001b[0m\u001b[0;34m)\u001b[0m\u001b[0;34m,\u001b[0m\u001b[0;34m\u001b[0m\u001b[0m\n\u001b[0;32m-> 3326\u001b[0;31m                                ndim=1, fastpath=True)\n\u001b[0m\u001b[1;32m   3327\u001b[0m \u001b[0;34m\u001b[0m\u001b[0m\n\u001b[1;32m   3328\u001b[0m         \u001b[0mself\u001b[0m\u001b[0;34m.\u001b[0m\u001b[0mblocks\u001b[0m \u001b[0;34m=\u001b[0m \u001b[0;34m[\u001b[0m\u001b[0mblock\u001b[0m\u001b[0;34m]\u001b[0m\u001b[0;34m\u001b[0m\u001b[0m\n",
        "\u001b[0;32m/usr/lib/python2.7/dist-packages/pandas/core/internals.pyc\u001b[0m in \u001b[0;36mmake_block\u001b[0;34m(values, placement, klass, ndim, dtype, fastpath)\u001b[0m\n\u001b[1;32m   2044\u001b[0m             \u001b[0;31m# value IN addition to possible nulls/strings\u001b[0m\u001b[0;34m\u001b[0m\u001b[0;34m\u001b[0m\u001b[0m\n\u001b[1;32m   2045\u001b[0m             \u001b[0;31m# an array of ONLY strings will not be inferred\u001b[0m\u001b[0;34m\u001b[0m\u001b[0;34m\u001b[0m\u001b[0m\n\u001b[0;32m-> 2046\u001b[0;31m             \u001b[0;32mif\u001b[0m \u001b[0mnp\u001b[0m\u001b[0;34m.\u001b[0m\u001b[0mprod\u001b[0m\u001b[0;34m(\u001b[0m\u001b[0mvalues\u001b[0m\u001b[0;34m.\u001b[0m\u001b[0mshape\u001b[0m\u001b[0;34m)\u001b[0m\u001b[0;34m:\u001b[0m\u001b[0;34m\u001b[0m\u001b[0m\n\u001b[0m\u001b[1;32m   2047\u001b[0m                 \u001b[0mresult\u001b[0m \u001b[0;34m=\u001b[0m \u001b[0m_possibly_infer_to_datetimelike\u001b[0m\u001b[0;34m(\u001b[0m\u001b[0mvalues\u001b[0m\u001b[0;34m)\u001b[0m\u001b[0;34m\u001b[0m\u001b[0m\n\u001b[1;32m   2048\u001b[0m                 \u001b[0mvtype\u001b[0m \u001b[0;34m=\u001b[0m \u001b[0mresult\u001b[0m\u001b[0;34m.\u001b[0m\u001b[0mdtype\u001b[0m\u001b[0;34m.\u001b[0m\u001b[0mtype\u001b[0m\u001b[0;34m\u001b[0m\u001b[0m\n",
        "\u001b[0;32m/usr/lib/python2.7/dist-packages/numpy/core/fromnumeric.pyc\u001b[0m in \u001b[0;36mprod\u001b[0;34m(a, axis, dtype, out, keepdims)\u001b[0m\n\u001b[1;32m   2337\u001b[0m         \u001b[0;32mexcept\u001b[0m \u001b[0mAttributeError\u001b[0m\u001b[0;34m:\u001b[0m\u001b[0;34m\u001b[0m\u001b[0m\n\u001b[1;32m   2338\u001b[0m             return _methods._prod(a, axis=axis, dtype=dtype,\n\u001b[0;32m-> 2339\u001b[0;31m                                 out=out, keepdims=keepdims)\n\u001b[0m\u001b[1;32m   2340\u001b[0m         \u001b[0;32mreturn\u001b[0m \u001b[0mprod\u001b[0m\u001b[0;34m(\u001b[0m\u001b[0maxis\u001b[0m\u001b[0;34m=\u001b[0m\u001b[0maxis\u001b[0m\u001b[0;34m,\u001b[0m \u001b[0mdtype\u001b[0m\u001b[0;34m=\u001b[0m\u001b[0mdtype\u001b[0m\u001b[0;34m,\u001b[0m \u001b[0mout\u001b[0m\u001b[0;34m=\u001b[0m\u001b[0mout\u001b[0m\u001b[0;34m)\u001b[0m\u001b[0;34m\u001b[0m\u001b[0m\n\u001b[1;32m   2341\u001b[0m     \u001b[0;32melse\u001b[0m\u001b[0;34m:\u001b[0m\u001b[0;34m\u001b[0m\u001b[0m\n",
        "\u001b[0;32m/usr/lib/python2.7/dist-packages/numpy/core/_methods.pyc\u001b[0m in \u001b[0;36m_prod\u001b[0;34m(a, axis, dtype, out, keepdims)\u001b[0m\n\u001b[1;32m     27\u001b[0m \u001b[0;32mdef\u001b[0m \u001b[0m_prod\u001b[0m\u001b[0;34m(\u001b[0m\u001b[0ma\u001b[0m\u001b[0;34m,\u001b[0m \u001b[0maxis\u001b[0m\u001b[0;34m=\u001b[0m\u001b[0mNone\u001b[0m\u001b[0;34m,\u001b[0m \u001b[0mdtype\u001b[0m\u001b[0;34m=\u001b[0m\u001b[0mNone\u001b[0m\u001b[0;34m,\u001b[0m \u001b[0mout\u001b[0m\u001b[0;34m=\u001b[0m\u001b[0mNone\u001b[0m\u001b[0;34m,\u001b[0m \u001b[0mkeepdims\u001b[0m\u001b[0;34m=\u001b[0m\u001b[0mFalse\u001b[0m\u001b[0;34m)\u001b[0m\u001b[0;34m:\u001b[0m\u001b[0;34m\u001b[0m\u001b[0m\n\u001b[1;32m     28\u001b[0m     return um.multiply.reduce(a, axis=axis, dtype=dtype,\n\u001b[0;32m---> 29\u001b[0;31m                             out=out, keepdims=keepdims)\n\u001b[0m\u001b[1;32m     30\u001b[0m \u001b[0;34m\u001b[0m\u001b[0m\n\u001b[1;32m     31\u001b[0m \u001b[0;32mdef\u001b[0m \u001b[0m_any\u001b[0m\u001b[0;34m(\u001b[0m\u001b[0ma\u001b[0m\u001b[0;34m,\u001b[0m \u001b[0maxis\u001b[0m\u001b[0;34m=\u001b[0m\u001b[0mNone\u001b[0m\u001b[0;34m,\u001b[0m \u001b[0mdtype\u001b[0m\u001b[0;34m=\u001b[0m\u001b[0mNone\u001b[0m\u001b[0;34m,\u001b[0m \u001b[0mout\u001b[0m\u001b[0;34m=\u001b[0m\u001b[0mNone\u001b[0m\u001b[0;34m,\u001b[0m \u001b[0mkeepdims\u001b[0m\u001b[0;34m=\u001b[0m\u001b[0mFalse\u001b[0m\u001b[0;34m)\u001b[0m\u001b[0;34m:\u001b[0m\u001b[0;34m\u001b[0m\u001b[0m\n",
        "\u001b[0;31mKeyboardInterrupt\u001b[0m: "
       ]
      }
     ],
     "prompt_number": 29
    },
    {
     "cell_type": "code",
     "collapsed": false,
     "input": [
      "final_df_sorted = [pd.DataFrame()]*100\n",
      "df_sorted = [pd.DataFrame]*100\n",
      "\n",
      "for i, dd in df.groupby('age'):\n",
      "    print str(i) + \" \" + str(len(dd))"
     ],
     "language": "python",
     "metadata": {},
     "outputs": [
      {
       "output_type": "stream",
       "stream": "stdout",
       "text": [
        "17 5\n",
        "18 28\n",
        "19 42\n",
        "20 65\n",
        "21 102\n",
        "22 137\n",
        "23 226\n",
        "24 463\n",
        "25 598\n",
        "26 698\n",
        "27 851\n",
        "28 1001\n",
        "29 1453\n",
        "30 1714\n",
        "31 1947\n",
        "32 1846\n",
        "33 1833\n",
        "34 1745\n",
        "35 1759\n",
        "36 1780\n",
        "37 1475\n",
        "38 1407\n",
        "39 1432\n",
        "40 1161\n",
        "41 1278\n",
        "42 1142\n",
        "43 1055\n",
        "44 1011\n",
        "45 1103\n",
        "46 1030\n",
        "47 928\n",
        "48 979\n",
        "49 839\n",
        "50 875\n",
        "51 754\n",
        "52 779\n",
        "53 733\n",
        "54 684\n",
        "55 648\n",
        "56 704\n",
        "57 646\n",
        "58 576\n",
        "59 463\n",
        "60 283\n",
        "61 73\n",
        "62 62\n",
        "63 55\n",
        "64 57\n",
        "65 44\n",
        "66 57\n",
        "67 26\n",
        "68 33\n",
        "69 34\n",
        "70 47\n",
        "71 53\n",
        "72 34\n",
        "73 34\n",
        "74 32\n",
        "75 24\n",
        "76 34\n",
        "77 20\n",
        "78 27\n",
        "79 14\n",
        "80 31\n",
        "81 20\n",
        "82 17\n",
        "83 17\n",
        "84 7\n",
        "85 15\n",
        "86 8\n",
        "87 1\n",
        "88 22\n",
        "89 2\n",
        "91 2\n",
        "92 4\n",
        "94 1\n",
        "95 1\n",
        "98 2\n"
       ]
      }
     ],
     "prompt_number": 58
    },
    {
     "cell_type": "code",
     "collapsed": false,
     "input": [],
     "language": "python",
     "metadata": {},
     "outputs": []
    }
   ],
   "metadata": {}
  }
 ]
}